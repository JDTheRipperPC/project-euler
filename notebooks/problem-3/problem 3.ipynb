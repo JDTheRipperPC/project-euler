{
 "cells": [
  {
   "cell_type": "markdown",
   "id": "0b272d94",
   "metadata": {},
   "source": [
    "# Problem 3\n",
    "\n",
    "## Largest prime factor\n",
    "\n",
    "\n",
    "\n",
    "The prime factors of 13195 are 5, 7, 13 and 29.\n",
    "\n",
    "What is the largest prime factor of the number 600851475143 ?\n",
    "\n",
    "---"
   ]
  },
  {
   "cell_type": "markdown",
   "id": "75179dfb",
   "metadata": {},
   "source": [
    "## Solution\n",
    "\n"
   ]
  },
  {
   "cell_type": "code",
   "execution_count": 42,
   "id": "7ec4b0fc",
   "metadata": {},
   "outputs": [],
   "source": [
    "def largest_prime_factor(x):\n",
    "    p = 2\n",
    "    if x % 2 == 0:\n",
    "        while x % 2 == 0:\n",
    "            x /= 2\n",
    "\n",
    "    # not div \n",
    "    if x > 1:\n",
    "        p = 3\n",
    "        while x > 1:\n",
    "            if x % p == 0:\n",
    "                x /= p\n",
    "            else:\n",
    "                p += 2\n",
    "    return p"
   ]
  },
  {
   "cell_type": "code",
   "execution_count": 44,
   "id": "069769d8",
   "metadata": {},
   "outputs": [
    {
     "data": {
      "text/plain": [
       "6857"
      ]
     },
     "execution_count": 44,
     "metadata": {},
     "output_type": "execute_result"
    }
   ],
   "source": [
    "largest_prime_factor(600851475143)"
   ]
  }
 ],
 "metadata": {
  "kernelspec": {
   "display_name": "Python 3 (ipykernel)",
   "language": "python",
   "name": "python3"
  },
  "language_info": {
   "codemirror_mode": {
    "name": "ipython",
    "version": 3
   },
   "file_extension": ".py",
   "mimetype": "text/x-python",
   "name": "python",
   "nbconvert_exporter": "python",
   "pygments_lexer": "ipython3",
   "version": "3.8.10"
  }
 },
 "nbformat": 4,
 "nbformat_minor": 5
}
