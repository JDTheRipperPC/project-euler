{
 "cells": [
  {
   "cell_type": "markdown",
   "id": "7fb92c16",
   "metadata": {},
   "source": [
    "# Problem 3\n",
    "\n",
    "## Largest prime factor\n",
    "\n",
    "\n",
    "\n",
    "The prime factors of 13195 are 5, 7, 13 and 29.\n",
    "\n",
    "What is the largest prime factor of the number 600851475143 ?\n",
    "\n",
    "---"
   ]
  },
  {
   "cell_type": "markdown",
   "id": "91f3ad7b",
   "metadata": {},
   "source": [
    "## Solution\n",
    "\n",
    "In first place, we will divide by 2 until it's not divisible (mod 2 is not 0).\n",
    "\n",
    "If the number remaining is greater that 1, then it's divisible 3 or a bigger prime number.\n",
    "\n",
    "We will divide by 3 until the value is greater that 1 or it's not divisible by 3. If it's greater that 1 and not divisible by 3, then increment our value to divide by 2 (5) and so on until we get our number to 1.\n",
    "\n",
    "```\n",
    "    function largest_prime_factor(x: number): number\n",
    "1.      p := 2;\n",
    "2.      WHILE x mod 2 = 0 DO\n",
    "3.          x := x / 2;\n",
    "4.      END WHILE;\n",
    "5.      IF x > 1 THEN\n",
    "6.          p := 3;\n",
    "7.          WHILE x > 1 DO\n",
    "8.              IF x mod p = 0 THEN\n",
    "9.                  x := x / p;\n",
    "10.             ELSE\n",
    "11.                 p := p + 2;\n",
    "12.             END IF;\n",
    "13.         END WHILE;\n",
    "14.     END IF;\n",
    "15.     RETURN p;\n",
    "    end function\n",
    "```"
   ]
  },
  {
   "cell_type": "code",
   "execution_count": 1,
   "id": "0c12092c",
   "metadata": {},
   "outputs": [],
   "source": [
    "def largest_prime_factor(x):\n",
    "    p = 2\n",
    "    while x % 2 == 0:\n",
    "        x /= 2\n",
    "\n",
    "    if x > 1:\n",
    "        p = 3\n",
    "        while x > 1:\n",
    "            if x % p == 0:\n",
    "                x /= p\n",
    "            else:\n",
    "                p += 2\n",
    "    return p"
   ]
  },
  {
   "cell_type": "code",
   "execution_count": 2,
   "id": "0c9ddffa",
   "metadata": {},
   "outputs": [
    {
     "data": {
      "text/plain": [
       "29"
      ]
     },
     "execution_count": 2,
     "metadata": {},
     "output_type": "execute_result"
    }
   ],
   "source": [
    "largest_prime_factor(13195)"
   ]
  },
  {
   "cell_type": "code",
   "execution_count": 3,
   "id": "b8177c7f",
   "metadata": {},
   "outputs": [
    {
     "data": {
      "text/plain": [
       "6857"
      ]
     },
     "execution_count": 3,
     "metadata": {},
     "output_type": "execute_result"
    }
   ],
   "source": [
    "largest_prime_factor(600851475143)"
   ]
  }
 ],
 "metadata": {
  "kernelspec": {
   "display_name": "Python 3 (ipykernel)",
   "language": "python",
   "name": "python3"
  },
  "language_info": {
   "codemirror_mode": {
    "name": "ipython",
    "version": 3
   },
   "file_extension": ".py",
   "mimetype": "text/x-python",
   "name": "python",
   "nbconvert_exporter": "python",
   "pygments_lexer": "ipython3",
   "version": "3.8.10"
  }
 },
 "nbformat": 4,
 "nbformat_minor": 5
}
