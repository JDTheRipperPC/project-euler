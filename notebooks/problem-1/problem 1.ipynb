{
 "cells": [
  {
   "cell_type": "markdown",
   "id": "50477dc7",
   "metadata": {},
   "source": [
    "# Problem 1\n",
    "\n",
    "## Multiples of 3 or 5\n",
    "\n",
    "\n",
    "If we list all the natural numbers below 10 that are multiples of 3 or 5, we get 3, 5, 6 and 9. The sum of these multiples is 23.\n",
    "\n",
    "Find the sum of all the multiples of 3 or 5 below 1000.\n",
    "\n",
    "---"
   ]
  },
  {
   "cell_type": "markdown",
   "id": "56256370",
   "metadata": {},
   "source": [
    "## Solution 1\n",
    "\n",
    "A simple solution would be iterate from 1 to n - 1 (in this case n=1000) and check whether the number is multiple of 3 or 5.\n",
    "\n",
    "```\n",
    "   function sum_of_multiples(n: number, a: number, b: number): number\n",
    "1.     x := 0;\n",
    "2.     FOR i := 1 to n - 1 DO\n",
    "3.         IF i mod 3 = 0 or i mod 5 = 0 THEN\n",
    "4.             x := x + i;\n",
    "5.         END IF;\n",
    "6.     END FOR;\n",
    "7.     RETURN x;\n",
    "```"
   ]
  },
  {
   "cell_type": "code",
   "execution_count": 1,
   "id": "bf6f759e",
   "metadata": {},
   "outputs": [],
   "source": [
    "def sum_of_multiples(n, a, b):\n",
    "    x = 0\n",
    "    for i in range(n):\n",
    "        if i % a == 0 or i % b == 0:\n",
    "            x += i\n",
    "    return x"
   ]
  },
  {
   "cell_type": "code",
   "execution_count": 2,
   "id": "68a5a016",
   "metadata": {},
   "outputs": [
    {
     "data": {
      "text/plain": [
       "23"
      ]
     },
     "execution_count": 2,
     "metadata": {},
     "output_type": "execute_result"
    }
   ],
   "source": [
    "sum_of_multiples(10, 3, 5)"
   ]
  },
  {
   "cell_type": "code",
   "execution_count": 3,
   "id": "9faf4c25",
   "metadata": {},
   "outputs": [
    {
     "data": {
      "text/plain": [
       "233168"
      ]
     },
     "execution_count": 3,
     "metadata": {},
     "output_type": "execute_result"
    }
   ],
   "source": [
    "sum_of_multiples(1000, 3, 5)"
   ]
  },
  {
   "cell_type": "markdown",
   "id": "bbdcdb1f",
   "metadata": {},
   "source": [
    "Complexity: `O(n)`.\n",
    "\n",
    "---"
   ]
  },
  {
   "cell_type": "markdown",
   "id": "9f8c45bb",
   "metadata": {},
   "source": [
    "## Solution 2\n",
    "\n",
    "A possible improvement is to use two variables to increment by steps of 3 and 5. Each iteration adds the lowest counter to the final sum and increments both variables. If the variables are equal, sum only one variable but increment both variables.\n",
    "\n",
    "```\n",
    "    function sum_multiples_2(n: number, a: number, b: number)\n",
    "1.      x := 0;\n",
    "2.      i := 0;\n",
    "3.      j := 0;\n",
    "4.      WHILE i < n and j < n DO\n",
    "5.          IF i < j THEN\n",
    "6.              x := x + i;\n",
    "7.              i := i + a;\n",
    "8.          ELSE\n",
    "9.              IF j < i THEN\n",
    "10.                 x := x + j;\n",
    "11.                 j := j + b;\n",
    "12.             ELSE\n",
    "13.                 x := x + i;\n",
    "14.                 i := i + a;\n",
    "15.                 j := j + b;\n",
    "16.             END IF;\n",
    "17.         END IF;\n",
    "18.     END WHILE;\n",
    "19.     RETURN x;\n",
    "    end function\n",
    "```"
   ]
  },
  {
   "cell_type": "code",
   "execution_count": 4,
   "id": "48830730",
   "metadata": {},
   "outputs": [],
   "source": [
    "def sum_of_multiples_2(n, a, b):\n",
    "    x = 0\n",
    "    i = 0\n",
    "    j = 0\n",
    "    while i < n or j < n:\n",
    "        if i < j:\n",
    "            x += i\n",
    "            i += a\n",
    "        elif j < i:\n",
    "            x += j\n",
    "            j += b\n",
    "        elif i == j:\n",
    "            x += i\n",
    "            i += a\n",
    "            j += b\n",
    "    return x"
   ]
  },
  {
   "cell_type": "code",
   "execution_count": 5,
   "id": "14b7aaa8",
   "metadata": {},
   "outputs": [
    {
     "data": {
      "text/plain": [
       "23"
      ]
     },
     "execution_count": 5,
     "metadata": {},
     "output_type": "execute_result"
    }
   ],
   "source": [
    "sum_of_multiples_2(10, 3, 5)"
   ]
  },
  {
   "cell_type": "code",
   "execution_count": 6,
   "id": "7ef7c5f3",
   "metadata": {},
   "outputs": [
    {
     "data": {
      "text/plain": [
       "233168"
      ]
     },
     "execution_count": 6,
     "metadata": {},
     "output_type": "execute_result"
    }
   ],
   "source": [
    "sum_of_multiples_2(1000, 3, 5)"
   ]
  },
  {
   "cell_type": "markdown",
   "id": "f6c6b286",
   "metadata": {},
   "source": [
    "This version is an improvement, but has the same complexity.\n",
    "\n",
    "Complexity: `O(n)`.\n",
    "\n",
    "---"
   ]
  },
  {
   "cell_type": "markdown",
   "id": "ee54d9f2",
   "metadata": {},
   "source": [
    "## Solution 3\n",
    "\n",
    "The sum of the multiples of 3 below 10, `3 + 6 + 9 = 18`, can be expressed as `3 + 6 + 9 = 3 · (1 + 2 + 3) = 18`, the product of 3 times the nth sum of the quotient of 10 / 3.\n",
    "\n",
    "Same with the sum of multiples of 5 below 10: `5 = 5 · 1 = 5`.\n",
    "\n",
    "The sum of all multiples of 3 and 5 below 10 is: `18 + 5 = 13`.\n",
    "\n",
    "Below 10 there not exists any value multiple of 3 and 5 at the same time. Below 1000, `15 + 30 + ...`. These values must be subtracted from the sum.\n",
    "\n",
    "```\n",
    "   function sum_nth(n: number): number\n",
    "1.    RETURN n * (n + 1) / 2;\n",
    "   end function\n",
    "```\n",
    "\n",
    "```\n",
    "   function sum_multiples_below(n: number, a: number): number\n",
    "1.     n := n - 1;\n",
    "2.     q := n / a;\n",
    "3.     RETURN a * sum_nth(q);\n",
    "   end function\n",
    "```\n",
    "\n",
    "```\n",
    "   procedure problem_1()\n",
    "1.     multiples_of_3 := sum_multiples_below(1000, 3);\n",
    "2.     multiples_of_5 := sum_multiples_below(1000, 5);\n",
    "3.     multiples_of_15 := sum_multiples_below(1000, 15);\n",
    "4.     result := multiples_of_3 + multiples_of_5 - multiples_of_15;\n",
    "5.     print(result);\n",
    "   end procedure\n",
    "```"
   ]
  },
  {
   "cell_type": "code",
   "execution_count": 7,
   "id": "f07d4b6e",
   "metadata": {},
   "outputs": [],
   "source": [
    "def sum_nth(n):\n",
    "    return n * (n + 1) / 2"
   ]
  },
  {
   "cell_type": "code",
   "execution_count": 8,
   "id": "81a8dbf0",
   "metadata": {},
   "outputs": [],
   "source": [
    "def sum_multiples_below(n, a):\n",
    "    return int(a * sum_nth(int((n - 1) / a)))"
   ]
  },
  {
   "cell_type": "code",
   "execution_count": 9,
   "id": "1b5ea98e",
   "metadata": {},
   "outputs": [
    {
     "data": {
      "text/plain": [
       "233168"
      ]
     },
     "execution_count": 9,
     "metadata": {},
     "output_type": "execute_result"
    }
   ],
   "source": [
    "sum_multiples_below(1000, 3) + sum_multiples_below(1000, 5) - sum_multiples_below(1000, 15)"
   ]
  },
  {
   "cell_type": "markdown",
   "id": "b752180a",
   "metadata": {},
   "source": [
    "Complexity of sum_nth(n): `O(sum_nth) = O(1)`.\n",
    "\n",
    "Complexity of sum_multiples_below(n, a): `O(sum_multiples_below) = O(1)`.\n",
    "\n",
    "The complexity of the procedure of the problem 1 is `O(1)`.\n",
    "\n",
    "---"
   ]
  }
 ],
 "metadata": {
  "kernelspec": {
   "display_name": "Python 3 (ipykernel)",
   "language": "python",
   "name": "python3"
  },
  "language_info": {
   "codemirror_mode": {
    "name": "ipython",
    "version": 3
   },
   "file_extension": ".py",
   "mimetype": "text/x-python",
   "name": "python",
   "nbconvert_exporter": "python",
   "pygments_lexer": "ipython3",
   "version": "3.8.10"
  }
 },
 "nbformat": 4,
 "nbformat_minor": 5
}
